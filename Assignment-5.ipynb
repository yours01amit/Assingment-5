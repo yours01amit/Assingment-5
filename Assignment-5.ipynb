{
 "cells": [
  {
   "cell_type": "markdown",
   "id": "f8661acb",
   "metadata": {},
   "source": [
    "Que1: Who developed python programming Language?\n",
    "     \n",
    "Ans:  Python is a popular programming language. It was created by Guido Van Rossum, and released in           1991.\n"
   ]
  },
  {
   "cell_type": "markdown",
   "id": "fc0eb6ee",
   "metadata": {},
   "source": [
    "Que2: which type of programming does python support?\n",
    "\n",
    "Ans: Python is a multi-Paradigm programming language. Object-Oriented programming and structured programming are fully support in python, and many of their features support functional programming and aspect-oriented programming (including meta programming and meta object.)\n",
    "      \n",
    "      "
   ]
  },
  {
   "cell_type": "markdown",
   "id": "e5070c9a",
   "metadata": {},
   "source": [
    "Que3: Is Python case sensitive when dealing with identifiers?\n",
    "\n",
    "Ans:  Yes, python is a case sensitive language, it treats uppercase and lowercase character differently."
   ]
  },
  {
   "cell_type": "markdown",
   "id": "18a922e9",
   "metadata": {},
   "source": [
    "Que4: What is the correct extension of the python file?\n",
    "\n",
    "Ans: Python is a widely used programming or coding language used for different perpose. The extension for python files are .py, .pgi.\n"
   ]
  },
  {
   "cell_type": "markdown",
   "id": "e8150725",
   "metadata": {},
   "source": [
    "Que5: Is python code compiled or interpreted?\n",
    "\n",
    "Ans: Python is an interpreted language, which means the source code of a python program is converted into bytecode that is then executed by the python virtual machin."
   ]
  },
  {
   "cell_type": "markdown",
   "id": "32ea54fb",
   "metadata": {},
   "source": [
    "Que6: Name a few blocks of code used to define in python language?\n",
    "\n",
    "Ans: Conditional statement: used to execute different code blocks based on a certain condition. The most common conditional statement in python are \"if\", \"elif\", \"else\"."
   ]
  },
  {
   "cell_type": "markdown",
   "id": "8963e4ff",
   "metadata": {},
   "source": [
    "Que7: State a charecter used to give single line comments in python?\n",
    "\n",
    "Ans: Hash character(#) is used to comment the line in the python program."
   ]
  },
  {
   "cell_type": "markdown",
   "id": "d9033850",
   "metadata": {},
   "source": [
    "Que8: Mention functions which can help us to find the version of python that we are currently working       on?\n",
    "Ans: Here are a few functions that you can use to find the version of python you are currently working      on:  'sys' module: the 'sys' module provides access to some variables used or maintained by the interpreter and to functions that interact strongly with the interpreter. you can use the 'sys.version' attributes to get the python version installed on your system.\n",
    "\n",
    "\"platform\" modules: the 'platform' module provides on interface to various services that interact with the underlying platform, you can use the \"platform.python_version() function to get the python version installed on your system\n",
    "   \n",
    "command line: you can also use the command line to check the python version, open a terminal or command prompt and run this following command\n",
    "\n",
    "       python\n"
   ]
  },
  {
   "cell_type": "code",
   "execution_count": 2,
   "id": "dd0086e7",
   "metadata": {},
   "outputs": [
    {
     "name": "stdout",
     "output_type": "stream",
     "text": [
      "3.11.0 (main, Oct 24 2022, 18:26:48) [MSC v.1933 64 bit (AMD64)]\n",
      "3.11.0\n"
     ]
    }
   ],
   "source": [
    "import sys\n",
    "print(sys.version)\n",
    "\n",
    "import platform\n",
    "print(platform.python_version())"
   ]
  },
  {
   "cell_type": "markdown",
   "id": "d448ea81",
   "metadata": {},
   "source": [
    "Que9: Python support the creation of anonymous functions at runtime, using a construct called\n",
    "\n",
    "Ans: python supports the creation of anonymous functions at runtime using a construct called \"lambda\" function."
   ]
  },
  {
   "cell_type": "markdown",
   "id": "bba8abdd",
   "metadata": {},
   "source": [
    "Que10: What does pip stand for python?\n",
    "\n",
    "Ans: The 'pip'(prefered installer programs) in python stand for \"pip installs packeges\". pip is a package manager for python that allows you to easily install, update, and manage python packages."
   ]
  },
  {
   "cell_type": "markdown",
   "id": "4d588002",
   "metadata": {},
   "source": [
    "Que11: Mention a few built in functions in python ?\n",
    "\n",
    "Ans: Here are some built in function in python:\n",
    "     print(), len(), input(), range(), int(), float(), str(), type(), bool(), abs(), max(), min(), sum(), sorted(), enumerate(), zip(), map(), filter(), any(), all()."
   ]
  },
  {
   "cell_type": "markdown",
   "id": "0a94c394",
   "metadata": {},
   "source": [
    "Que12: What is the maximum possible length of an identifier in python?\n",
    "\n",
    "Ans: In python, the highest possible length of an identifier is 79 characters, python is a high level programming language. it is also a complex form and a collecter of waste\n",
    "python , particularly when combined with identifiers is case sensitive.\n",
    "when writing or using identifiers in python, it has maximum of 79 characters.\n",
    "unlikely, python gives the identifiers unlimited length\n",
    "however, the layout of pep-8 prevents the user from breaking the rules and includes a 79 character limit"
   ]
  },
  {
   "cell_type": "markdown",
   "id": "b17926a9",
   "metadata": {},
   "source": [
    "Que13: What are the benefit of using python?\n",
    "\n",
    "Ans:  Python is a high level programming language that has many benefits:\n",
    "Data science.\n",
    "Scientific and mathematical computing.\n",
    "Web development.\n",
    "Finance and trading.\n",
    "System automation and administration.\n",
    "Computer graphics.\n",
    "Basic game development.\n",
    "Security and penetration testing.\n",
    "\n",
    "Easy to Learn: Python has a simple and easy-to-learn syntax, making it an ideal language for beginners to learn programming. The language's syntax is similar to English, which makes it easy to read and write.\n",
    "\n",
    "Versatile: Python is a versatile language that can be used for a variety of applications, including web development, data analysis, scientific computing, artificial intelligence, machine learning, automation, and more.\n",
    "\n",
    "Large Standard Library: Python comes with a large standard library that provides many pre-written modules and functions, making it easy to develop complex applications without having to write the code from scratch.\n",
    "\n",
    "Cross-Platform: Python is a cross-platform language, meaning that it can be used on different operating systems, including Windows, macOS, and Linux.\n",
    "\n",
    "Open-Source: Python is an open-source language, which means that it is free to use, modify, and distribute. This makes it a popular choice for both commercial and non-commercial applications.\n",
    "\n",
    "Strong Community: Python has a strong community of developers who contribute to the language's development and provide support through online forums, user groups, and conferences.\n",
    "\n",
    "High Productivity: Python's ease of use, readability, and large standard library make it a highly productive language. Developers can write complex applications in less time compared to other programming languages.\n",
    "\n",
    "Scalability: Python is a scalable language that can handle large-scale applications. It is used by many large companies, including Google, Facebook, and Instagram, for their software development needs.\n",
    "\n",
    "Overall, Python is a powerful and versatile language that has many benefits, making it a popular choice for developers across many different fields."
   ]
  },
  {
   "cell_type": "markdown",
   "id": "761336f6",
   "metadata": {},
   "source": [
    "Que14: How is momory managed in python ?\n",
    "\n",
    "Ans: Memory management in python involves a private heap cointaining all python objects and data structured. this private heap is taken care of by python interpreter itself, and a programmer doesn't have access to this private heap."
   ]
  },
  {
   "cell_type": "markdown",
   "id": "d97024db",
   "metadata": {},
   "source": [
    "Que15: How to install python on windows and set path variables?\n",
    "\n",
    "Ans: To install Python on Windows and set path variables, you can follow these steps:\n",
    "\n",
    "Download Python installer: Go to the official Python website and download the latest stable version of Python for Windows. Choose the appropriate version based on your system architecture (32-bit or 64-bit).\n",
    "\n",
    "Run the installer: Double-click on the downloaded installer file to run the Python installer. Follow the prompts to install Python to a location of your choice.\n",
    "\n",
    "Set path variables: After installation, you need to set the path variables so that you can use Python from any directory in the command prompt. To set the path variables, follow these steps:\n",
    "\n",
    "a. Open the Control Panel and go to System and Security > System.\n",
    "\n",
    "b. Click on \"Advanced system settings\" on the left-hand side of the window.\n",
    "\n",
    "c. Click on the \"Environment Variables\" button.\n",
    "\n",
    "d. Under \"System variables,\" scroll down to find the \"Path\" variable and click \"Edit.\"\n",
    "\n",
    "e. Add the following path to the variable value: C:\\Python39 (or the version of Python you installed). Make sure to separate this path from any existing paths in the variable value with a semicolon (;).\n",
    "\n",
    "f. Click \"OK\" to save the changes and close the windows.\n",
    "\n",
    "Verify installation: To verify that Python has been installed correctly and that the path variables have been set, open a command prompt and type python. This should open the Python interpreter, and you should see the version number displayed.\n",
    "\n",
    "That's it! You should now have Python installed on your Windows system and the path variables set so that you can use Python from any directory in the command prompt."
   ]
  },
  {
   "cell_type": "markdown",
   "id": "b82a6a60",
   "metadata": {},
   "source": [
    "Que16: Is indentation required in python?\n",
    "\n",
    "Ans:  Yes, indentation is required in python. In fact, it is a fundamental part of the language's syntax and execute code it is very important in python"
   ]
  }
 ],
 "metadata": {
  "kernelspec": {
   "display_name": "Python 3 (ipykernel)",
   "language": "python",
   "name": "python3"
  },
  "language_info": {
   "codemirror_mode": {
    "name": "ipython",
    "version": 3
   },
   "file_extension": ".py",
   "mimetype": "text/x-python",
   "name": "python",
   "nbconvert_exporter": "python",
   "pygments_lexer": "ipython3",
   "version": "3.11.0"
  }
 },
 "nbformat": 4,
 "nbformat_minor": 5
}
